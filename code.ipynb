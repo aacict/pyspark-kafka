{
 "cells": [
  {
   "cell_type": "markdown",
   "metadata": {},
   "source": [
    "### Apache kafka Using PySpark Codeume"
   ]
  },
  {
   "cell_type": "code",
   "execution_count": 2,
   "metadata": {},
   "outputs": [],
   "source": [
    "from pyspark.sql import SparkSession"
   ]
  },
  {
   "cell_type": "code",
   "execution_count": 11,
   "metadata": {},
   "outputs": [
    {
     "name": "stdout",
     "output_type": "stream",
     "text": [
      "Spark Version: 3.5.0\n"
     ]
    }
   ],
   "source": [
    "# Initialize Spark Session\n",
    "spark = (SparkSession.builder\n",
    "    .appName(\"pysparkKafkaApp\")\n",
    "    .config(\"spark.streaming.stopGracefullyOnShutdown\", True)\n",
    "    .config('spark.jars.packages', 'org.apache.spark:spark-sql-kafka-0-10_2.12:3.5.0')\n",
    "    .getOrCreate())\n",
    "\n",
    "print(\"Spark Version:\", spark.version)"
   ]
  },
  {
   "cell_type": "markdown",
   "metadata": {},
   "source": [
    "### Sending data from pyspark code to console of kafka"
   ]
  },
  {
   "cell_type": "code",
   "execution_count": 12,
   "metadata": {},
   "outputs": [
    {
     "name": "stdout",
     "output_type": "stream",
     "text": [
      "+---+--------------------+\n",
      "| Id|             Message|\n",
      "+---+--------------------+\n",
      "|  1|Sending message t...|\n",
      "|  2|Sending message t...|\n",
      "|  3|Message sent to K...|\n",
      "+---+--------------------+\n",
      "\n",
      "None\n"
     ]
    }
   ],
   "source": [
    "# Sample Data\n",
    "data = spark.createDataFrame([\n",
    "    (1, \"Sending message to Kafka\"),\n",
    "    (2, \"Sending message to Kafka again\"),\n",
    "    (3, \"Message sent to Kafka\")\n",
    "], [\"Id\", \"Message\"])\n",
    "\n",
    "print(data.show())\n",
    "\n",
    "# Convert to JSON format (Kafka requires key-value messages)\n",
    "data_json = data.selectExpr(\"CAST(Id AS STRING) AS key\", \"to_json(struct(*)) AS value\")\n"
   ]
  },
  {
   "cell_type": "code",
   "execution_count": null,
   "metadata": {},
   "outputs": [],
   "source": [
    "# Write static DataFrame to Kafka console\n",
    "(data_json.write\n",
    "    .format(\"kafka\")\n",
    "    .option(\"kafka.bootstrap.servers\", \"broker:9092\")\n",
    "    .option(\"checkpointLocation\", \"/tmp/spark/checkpoint\")\n",
    "    .option(\"topic\", \"kafka-topic\")\n",
    "    .save())\n",
    "\n",
    "print(\"Static DataFrame successfully sent to Kafka console!\")"
   ]
  },
  {
   "attachments": {
    "image.png": {
     "image/png": "[encoded data removed]"
    }
   },
   "cell_type": "markdown",
   "metadata": {},
   "source": [
    "![image.png](attachment:image.png)"
   ]
  },
  {
   "attachments": {
    "image.png": {
     "image/png": "[encoded data removed]"
    }
   },
   "cell_type": "markdown",
   "metadata": {},
   "source": [
    "### How you can send data from kafka producer in console and grab it in the pyspark:\n",
    "use this to send data:\n",
    "![image.png](attachment:image.png)"
   ]
  },
  {
   "cell_type": "code",
   "execution_count": 8,
   "metadata": {},
   "outputs": [
    {
     "name": "stdout",
     "output_type": "stream",
     "text": [
      "+-----------------------------------------------------------+\n",
      "|message                                                    |\n",
      "+-----------------------------------------------------------+\n",
      "|This message is sent from kafka, please grab it in pyspark.|\n",
      "+-----------------------------------------------------------+\n",
      "\n",
      "None\n"
     ]
    },
    {
     "data": {
      "text/plain": [
       "False"
      ]
     },
     "execution_count": 8,
     "metadata": {},
     "output_type": "execute_result"
    },
    {
     "name": "stdout",
     "output_type": "stream",
     "text": [
      "+-----------------------------------+\n",
      "|message                            |\n",
      "+-----------------------------------+\n",
      "|This is another message from aacict|\n",
      "+-----------------------------------+\n",
      "\n",
      "None\n"
     ]
    }
   ],
   "source": [
    "kafka_df = (spark\n",
    "    .readStream \n",
    "    .format(\"kafka\") \n",
    "    .option(\"kafka.bootstrap.servers\", \"broker:9092\") \n",
    "    .option(\"subscribe\", \"kafka-topic\") \n",
    "    .option(\"failOnDataLoss\", \"false\") \n",
    "    .load())\n",
    "\n",
    "kafka_df = kafka_df.selectExpr(\"CAST(value AS STRING) as message\")\n",
    "\n",
    "def foreach_batch_function(df, epoch_id):\n",
    "    print(df.show(truncate=False))\n",
    "\n",
    "# Start streaming and display output\n",
    "query = (kafka_df.writeStream \n",
    "    .outputMode(\"append\") \n",
    "    .foreachBatch(foreach_batch_function) \n",
    "    .option(\"checkpointLocation\", \"checkpoint_dir_kafka\") \n",
    "    .start())\n",
    "\n",
    "query.awaitTermination(5)  "
   ]
  },
  {
   "cell_type": "markdown",
   "metadata": {},
   "source": [
    "So, the combination of these consumer and producer can be used in applications which requires real time data consumption. For example, data can be sent from backend to frontend applications like the forex data, stock data etc."
   ]
  }
 ],
 "metadata": {
  "colab": {
   "provenance": []
  },
  "kernelspec": {
   "display_name": "Python 3 (ipykernel)",
   "language": "python",
   "name": "python3"
  },
  "language_info": {
   "codemirror_mode": {
    "name": "ipython",
    "version": 3
   },
   "file_extension": ".py",
   "mimetype": "text/x-python",
   "name": "python",
   "nbconvert_exporter": "python",
   "pygments_lexer": "ipython3",
   "version": "3.11.6"
  }
 },
 "nbformat": 4,
 "nbformat_minor": 4
}
