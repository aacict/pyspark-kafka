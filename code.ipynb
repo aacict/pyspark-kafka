{
 "cells": [
  {
   "cell_type": "markdown",
   "metadata": {},
   "source": [
    "### Apache kafka Using PySpark Codeume"
   ]
  },
  {
   "cell_type": "code",
   "execution_count": 2,
   "metadata": {},
   "outputs": [],
   "source": [
    "from pyspark.sql import SparkSession"
   ]
  },
  {
   "cell_type": "code",
   "execution_count": 11,
   "metadata": {},
   "outputs": [
    {
     "name": "stdout",
     "output_type": "stream",
     "text": [
      "Spark Version: 3.5.0\n"
     ]
    }
   ],
   "source": [
    "# Initialize Spark Session\n",
    "spark = (SparkSession.builder\n",
    "    .appName(\"pysparkKafkaApp\")\n",
    "    .config(\"spark.streaming.stopGracefullyOnShutdown\", True)\n",
    "    .config('spark.jars.packages', 'org.apache.spark:spark-sql-kafka-0-10_2.12:3.5.0')\n",
    "    .getOrCreate())\n",
    "\n",
    "print(\"Spark Version:\", spark.version)"
   ]
  },
  {
   "cell_type": "markdown",
   "metadata": {},
   "source": [
    "### Sending data from pyspark code to console of kafka"
   ]
  },
  {
   "cell_type": "code",
   "execution_count": 12,
   "metadata": {},
   "outputs": [
    {
     "name": "stdout",
     "output_type": "stream",
     "text": [
      "+---+--------------------+\n",
      "| Id|             Message|\n",
      "+---+--------------------+\n",
      "|  1|Sending message t...|\n",
      "|  2|Sending message t...|\n",
      "|  3|Message sent to K...|\n",
      "+---+--------------------+\n",
      "\n",
      "None\n"
     ]
    }
   ],
   "source": [
    "# Sample Data\n",
    "data = spark.createDataFrame([\n",
    "    (1, \"Sending message to Kafka\"),\n",
    "    (2, \"Sending message to Kafka again\"),\n",
    "    (3, \"Message sent to Kafka\")\n",
    "], [\"Id\", \"Message\"])\n",
    "\n",
    "print(data.show())\n",
    "\n",
    "# Convert to JSON format (Kafka requires key-value messages)\n",
    "data_json = data.selectExpr(\"CAST(Id AS STRING) AS key\", \"to_json(struct(*)) AS value\")\n"
   ]
  },
  {
   "cell_type": "code",
   "execution_count": null,
   "metadata": {},
   "outputs": [],
   "source": []
  }
 ],
 "metadata": {
  "colab": {
   "provenance": []
  },
  "kernelspec": {
   "display_name": "Python 3 (ipykernel)",
   "language": "python",
   "name": "python3"
  },
  "language_info": {
   "codemirror_mode": {
    "name": "ipython",
    "version": 3
   },
   "file_extension": ".py",
   "mimetype": "text/x-python",
   "name": "python",
   "nbconvert_exporter": "python",
   "pygments_lexer": "ipython3",
   "version": "3.11.6"
  }
 },
 "nbformat": 4,
 "nbformat_minor": 4
}
